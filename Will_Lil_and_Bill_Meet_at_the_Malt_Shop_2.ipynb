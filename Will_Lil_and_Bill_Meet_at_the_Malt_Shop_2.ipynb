{
 "cells": [
  {
   "cell_type": "code",
   "execution_count": 110,
   "id": "b19eabfc",
   "metadata": {},
   "outputs": [],
   "source": [
    "# import libraries\n",
    "import numpy as np\n",
    "import random"
   ]
  },
  {
   "cell_type": "code",
   "execution_count": 111,
   "id": "3042c3b6",
   "metadata": {},
   "outputs": [
    {
     "name": "stdout",
     "output_type": "stream",
     "text": [
      "0.358148\n"
     ]
    }
   ],
   "source": [
    "# no of trials \n",
    "samples = 1000000\n",
    "meet1 = 0\n",
    "rng1 =  np.random.default_rng()\n",
    "rng2 =  np.random.default_rng()\n",
    "for i in range(samples):\n",
    "    \n",
    "    # generating lil and bill arrival time\n",
    "    lil = 30*rng1.random()\n",
    "    bill = 30*rng2.random()\n",
    "    \n",
    "    #if lil arrives first\n",
    "    if(lil<bill and bill<lil+5):\n",
    "        meet1 += 1\n",
    "     \n",
    "    #or bill arrives first \n",
    "    elif(bill<lil and lil<bill+7):\n",
    "        meet1 +=1\n",
    "prob = meet1/samples \n",
    "print(prob)"
   ]
  },
  {
   "cell_type": "markdown",
   "id": "fc1e04e1",
   "metadata": {},
   "source": [
    "#### If Bill reduces his waiting time to five minutes"
   ]
  },
  {
   "cell_type": "code",
   "execution_count": 112,
   "id": "46a76fcd",
   "metadata": {},
   "outputs": [
    {
     "name": "stdout",
     "output_type": "stream",
     "text": [
      "0.304896\n"
     ]
    }
   ],
   "source": [
    "meet2 = 0\n",
    "for i in range(samples):\n",
    "    \n",
    "    # generating lil and bill arrival time\n",
    "    lil = 30*rng1.random()\n",
    "    bill = 30*rng2.random()\n",
    "    \n",
    "    #if lil arrives first\n",
    "    if(lil<bill and bill<lil+5):\n",
    "        meet2 += 1\n",
    "     \n",
    "    #or bill arrives first \n",
    "    elif(bill<lil and lil<bill+5):\n",
    "        meet2 +=1\n",
    "prob = meet2/samples \n",
    "print(prob)"
   ]
  },
  {
   "cell_type": "markdown",
   "id": "7877b1b9",
   "metadata": {},
   "source": [
    "#### if Lil increases her waiting time to seven minute"
   ]
  },
  {
   "cell_type": "code",
   "execution_count": 113,
   "id": "4d40973f",
   "metadata": {},
   "outputs": [
    {
     "name": "stdout",
     "output_type": "stream",
     "text": [
      "0.412475\n"
     ]
    }
   ],
   "source": [
    "meet3 = 0\n",
    "for i in range(samples):\n",
    "    \n",
    "    # generating lil and bill arrival time\n",
    "    lil = 30*rng1.random()\n",
    "    bill = 30*rng2.random()\n",
    "    \n",
    "    #if lil arrives first\n",
    "    if(lil<bill and bill<lil+7):\n",
    "        meet3 += 1\n",
    "     \n",
    "    #or bill arrives first \n",
    "    elif(bill<lil and lil<bill+7):\n",
    "        meet3 +=1\n",
    "prob = meet3/samples \n",
    "print(prob)"
   ]
  },
  {
   "cell_type": "code",
   "execution_count": null,
   "id": "0bcb92cc",
   "metadata": {},
   "outputs": [],
   "source": []
  },
  {
   "cell_type": "code",
   "execution_count": null,
   "id": "9a34bd82",
   "metadata": {},
   "outputs": [],
   "source": []
  }
 ],
 "metadata": {
  "kernelspec": {
   "display_name": "Python 3 (ipykernel)",
   "language": "python",
   "name": "python3"
  },
  "language_info": {
   "codemirror_mode": {
    "name": "ipython",
    "version": 3
   },
   "file_extension": ".py",
   "mimetype": "text/x-python",
   "name": "python",
   "nbconvert_exporter": "python",
   "pygments_lexer": "ipython3",
   "version": "3.9.13"
  }
 },
 "nbformat": 4,
 "nbformat_minor": 5
}
